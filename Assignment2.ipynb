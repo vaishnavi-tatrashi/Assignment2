{
 "cells": [
  {
   "cell_type": "code",
   "execution_count": 4,
   "metadata": {},
   "outputs": [
    {
     "name": "stdout",
     "output_type": "stream",
     "text": [
      "[2, 4, 5, 10, 20, 9, 3]\n"
     ]
    }
   ],
   "source": [
    "#remove duplicates from a list\n",
    "def remove(dulicate):\n",
    "    l2=[]\n",
    "    for num in duplicate:\n",
    "        if num not in l2:\n",
    "            l2.append(num)\n",
    "    return l2\n",
    "duplicate=[2,4,5,10,2,20,9,10,5,2,3]\n",
    "print(remove(duplicate))"
   ]
  },
  {
   "cell_type": "code",
   "execution_count": 5,
   "metadata": {},
   "outputs": [
    {
     "name": "stdout",
     "output_type": "stream",
     "text": [
      "[2, 3, 4, 5, 10, 20]\n"
     ]
    }
   ],
   "source": [
    "#remove duplicates from a list\n",
    "duplicate=[2,4,5,10,2,20,10,5,2,3,4]\n",
    "print(list(set(duplicate)))"
   ]
  },
  {
   "cell_type": "code",
   "execution_count": 10,
   "metadata": {},
   "outputs": [
    {
     "name": "stdout",
     "output_type": "stream",
     "text": [
      "[1, 2]\n"
     ]
    }
   ],
   "source": [
    "#difference between the lists\n",
    "list1=[1,2,4]\n",
    "list2=[4,5,6]\n",
    "difference=[item for item in list1 if item not in list2]\n",
    "print(difference)"
   ]
  },
  {
   "cell_type": "code",
   "execution_count": 12,
   "metadata": {},
   "outputs": [
    {
     "name": "stdout",
     "output_type": "stream",
     "text": [
      "{1: 1, 3: 2, 4: 1, 2: 2, 7: 1, 8: 1, 9: 5}\n"
     ]
    }
   ],
   "source": [
    "#frequency of the elements in a list\n",
    "def frequency(a):\n",
    "    dic={}\n",
    "    for i in a:\n",
    "        if i not in dic:\n",
    "            dic[i]=a.count(i)\n",
    "    return dic\n",
    "a=[1,3,4,2,2,3,7,8,9,9,9,9,9]\n",
    "print(frequency(a))"
   ]
  },
  {
   "cell_type": "code",
   "execution_count": 13,
   "metadata": {},
   "outputs": [
    {
     "name": "stdout",
     "output_type": "stream",
     "text": [
      "['orange', 'red', 'white']\n",
      "['black', 'yellow']\n"
     ]
    }
   ],
   "source": [
    "#Write a Python program to compute the similarity between two lists.\n",
    "def dif(a,b):\n",
    "    print(list(set(a)-set(b)))\n",
    "    print(list(set(b)-set(a)))\n",
    "color1=[\"red\", \"orange\", \"green\", \"blue\", \"white\"]\n",
    "color2=[\"black\", \"yellow\", \"green\", \"blue\"]\n",
    "dif(color1,color2)"
   ]
  },
  {
   "cell_type": "code",
   "execution_count": 17,
   "metadata": {},
   "outputs": [
    {
     "name": "stdout",
     "output_type": "stream",
     "text": [
      "The lenth longest word in the list is 9\n"
     ]
    }
   ],
   "source": [
    "#Write a Python function that takes a list of words and returns the length of the longest one\n",
    "def find_longest_word(l):\n",
    "    n = [len(i) for i in l]\n",
    "    n.sort()\n",
    "    print('The lenth longest word in the list is', n[-1])\n",
    "find_longest_word([\"PHP\", \"Exercises\", \"Backend\"])"
   ]
  },
  {
   "cell_type": "code",
   "execution_count": 23,
   "metadata": {},
   "outputs": [
    {
     "name": "stdout",
     "output_type": "stream",
     "text": [
      "enter sentancecat bat dog bat mat cat put cut put\n",
      "{'cat': 2, 'bat': 2, 'dog': 1, 'mat': 1, 'put': 2, 'cut': 1}\n"
     ]
    }
   ],
   "source": [
    "#Python program to count the occurrences of each word in a given sentence\n",
    "def word_count(str):\n",
    "    counts = dict()\n",
    "    words = str.split()\n",
    "\n",
    "    for word in words:\n",
    "        if word in counts:\n",
    "            counts[word] += 1\n",
    "        else:\n",
    "            counts[word] = 1\n",
    "\n",
    "    return counts\n",
    "\n",
    "print( word_count(input(\"enter sentance\")))"
   ]
  },
  {
   "cell_type": "code",
   "execution_count": 24,
   "metadata": {},
   "outputs": [
    {
     "name": "stdout",
     "output_type": "stream",
     "text": [
      "Enter Text:letsupgrade\n",
      "4\n",
      "['e', 'u', 'a', 'e']\n"
     ]
    }
   ],
   "source": [
    "#Write a Python program to count and display the vowels of a given text\n",
    "def vowel(text):\n",
    "    vowels=\"aeiouAEIOU\"\n",
    "    print(len([letter for letter in text if letter in vowels]))\n",
    "    print([letter for letter in text if letter in vowels])\n",
    "vowel(input(\"Enter Text:\"))"
   ]
  },
  {
   "cell_type": "code",
   "execution_count": 22,
   "metadata": {},
   "outputs": [
    {
     "name": "stdout",
     "output_type": "stream",
     "text": [
      "enter a number10\n",
      "{0: 0, 1: 1, 2: 4, 3: 9, 4: 16, 5: 25, 6: 36, 7: 49, 8: 64, 9: 81}\n"
     ]
    }
   ],
   "source": [
    "#Write a Python script to generate and print a dictionary that contains a number (between 1 and n)\n",
    "#in the form (x, x*x)\n",
    "n=int(input(\"enter a number\"))\n",
    "d=dict()\n",
    "for x in range(n):\n",
    "    d[x]=x*x\n",
    "print(d)"
   ]
  },
  {
   "cell_type": "code",
   "execution_count": 32,
   "metadata": {},
   "outputs": [
    {
     "name": "stdout",
     "output_type": "stream",
     "text": [
      "{'a': 100, 'b': 200, 'c': 300, 'd': 400}\n"
     ]
    }
   ],
   "source": [
    "#Write a Python program to combine two dictionary adding values for common keys\n",
    "d1 = {'a': 100, 'b': 200, 'c':300}\n",
    "d2 = {'a': 300, 'b': 200, 'd':400}\n",
    "D = {}\n",
    "D=d1.copy()\n",
    "for i in D.items():\n",
    "    if i in d2:\n",
    "        D[i]+=d2[i]\n",
    "for i in d2:\n",
    "     if i not in D:\n",
    "            D[i]=d2[i]\n",
    "print(D)"
   ]
  },
  {
   "cell_type": "code",
   "execution_count": 33,
   "metadata": {},
   "outputs": [
    {
     "name": "stdout",
     "output_type": "stream",
     "text": [
      "{'S009', 'S007', 'S002', 'S001', 'S005'}\n"
     ]
    }
   ],
   "source": [
    "#Python program to print all unique values in a dictionary\n",
    "sample = [{\"V\":\"S001\"}, {\"V\": \"S002\"}, {\"VI\": \"S001\"}, {\"VI\": \"S005\"}, {\"VII\":\"S005\"}, {\"V\":\"S009\"},{\"VIII\":\"S007\"}]\n",
    "temp_list = []\n",
    "for item in sample:\n",
    "    for value in item.values():\n",
    "        temp_list.append(value)\n",
    "print(set(temp_list))"
   ]
  },
  {
   "cell_type": "code",
   "execution_count": null,
   "metadata": {},
   "outputs": [],
   "source": []
  }
 ],
 "metadata": {
  "kernelspec": {
   "display_name": "Python 3",
   "language": "python",
   "name": "python3"
  },
  "language_info": {
   "codemirror_mode": {
    "name": "ipython",
    "version": 3
   },
   "file_extension": ".py",
   "mimetype": "text/x-python",
   "name": "python",
   "nbconvert_exporter": "python",
   "pygments_lexer": "ipython3",
   "version": "3.8.3"
  }
 },
 "nbformat": 4,
 "nbformat_minor": 4
}
